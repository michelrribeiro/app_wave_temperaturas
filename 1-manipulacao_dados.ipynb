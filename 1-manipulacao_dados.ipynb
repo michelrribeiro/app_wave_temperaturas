{
 "cells": [
  {
   "cell_type": "markdown",
   "id": "c52dbefe",
   "metadata": {},
   "source": [
    "## Análise de séries temporais com dados de aquecimento global\n",
    "Dados disponíveis em: https://www.kaggle.com/datasets/berkeleyearth/climate-change-earth-surface-temperature-data"
   ]
  },
  {
   "cell_type": "markdown",
   "id": "b42d2846",
   "metadata": {},
   "source": [
    "### Geração dos dados para análise"
   ]
  },
  {
   "cell_type": "markdown",
   "id": "2528726f",
   "metadata": {},
   "source": [
    "Importando bibliotecas:"
   ]
  },
  {
   "cell_type": "code",
   "execution_count": 1,
   "id": "9d4511c6",
   "metadata": {},
   "outputs": [],
   "source": [
    "from time import time, strftime, gmtime\n",
    "global_start = time()\n",
    "\n",
    "import warnings\n",
    "warnings.filterwarnings('ignore')\n",
    "\n",
    "import os\n",
    "import pandas as pd\n",
    "import numpy as np\n",
    "from scipy import stats\n",
    "from re import sub\n",
    "from json import dump, load\n",
    "\n",
    "import plotly.express as px\n",
    "import plotly.graph_objects as go\n",
    "from plotly import subplots\n",
    "import matplotlib.pyplot as plt\n",
    "\n",
    "#import sklearn.neighbors._base\n",
    "#import sys\n",
    "#sys.modules['sklearn.neighbors.base'] = sklearn.neighbors._base\n",
    "#from missingpy import MissForest\n",
    "#from sklearn.preprocessing import LabelEncoder"
   ]
  },
  {
   "cell_type": "markdown",
   "id": "d128895c",
   "metadata": {},
   "source": [
    "Importando o arquivos com os dados por cidade:"
   ]
  },
  {
   "cell_type": "code",
   "execution_count": 2,
   "id": "39bc96af",
   "metadata": {},
   "outputs": [
    {
     "data": {
      "text/html": [
       "<div>\n",
       "<style scoped>\n",
       "    .dataframe tbody tr th:only-of-type {\n",
       "        vertical-align: middle;\n",
       "    }\n",
       "\n",
       "    .dataframe tbody tr th {\n",
       "        vertical-align: top;\n",
       "    }\n",
       "\n",
       "    .dataframe thead th {\n",
       "        text-align: right;\n",
       "    }\n",
       "</style>\n",
       "<table border=\"1\" class=\"dataframe\">\n",
       "  <thead>\n",
       "    <tr style=\"text-align: right;\">\n",
       "      <th></th>\n",
       "      <th>dt</th>\n",
       "      <th>AverageTemperature</th>\n",
       "      <th>AverageTemperatureUncertainty</th>\n",
       "      <th>City</th>\n",
       "      <th>Country</th>\n",
       "      <th>Latitude</th>\n",
       "      <th>Longitude</th>\n",
       "    </tr>\n",
       "  </thead>\n",
       "  <tbody>\n",
       "    <tr>\n",
       "      <th>0</th>\n",
       "      <td>1743-11-01</td>\n",
       "      <td>6.068</td>\n",
       "      <td>1.737</td>\n",
       "      <td>Århus</td>\n",
       "      <td>Denmark</td>\n",
       "      <td>57.05N</td>\n",
       "      <td>10.33E</td>\n",
       "    </tr>\n",
       "    <tr>\n",
       "      <th>1</th>\n",
       "      <td>1743-12-01</td>\n",
       "      <td>NaN</td>\n",
       "      <td>NaN</td>\n",
       "      <td>Århus</td>\n",
       "      <td>Denmark</td>\n",
       "      <td>57.05N</td>\n",
       "      <td>10.33E</td>\n",
       "    </tr>\n",
       "    <tr>\n",
       "      <th>2</th>\n",
       "      <td>1744-01-01</td>\n",
       "      <td>NaN</td>\n",
       "      <td>NaN</td>\n",
       "      <td>Århus</td>\n",
       "      <td>Denmark</td>\n",
       "      <td>57.05N</td>\n",
       "      <td>10.33E</td>\n",
       "    </tr>\n",
       "    <tr>\n",
       "      <th>3</th>\n",
       "      <td>1744-02-01</td>\n",
       "      <td>NaN</td>\n",
       "      <td>NaN</td>\n",
       "      <td>Århus</td>\n",
       "      <td>Denmark</td>\n",
       "      <td>57.05N</td>\n",
       "      <td>10.33E</td>\n",
       "    </tr>\n",
       "    <tr>\n",
       "      <th>4</th>\n",
       "      <td>1744-03-01</td>\n",
       "      <td>NaN</td>\n",
       "      <td>NaN</td>\n",
       "      <td>Århus</td>\n",
       "      <td>Denmark</td>\n",
       "      <td>57.05N</td>\n",
       "      <td>10.33E</td>\n",
       "    </tr>\n",
       "  </tbody>\n",
       "</table>\n",
       "</div>"
      ],
      "text/plain": [
       "           dt  AverageTemperature  AverageTemperatureUncertainty   City  \\\n",
       "0  1743-11-01               6.068                          1.737  Århus   \n",
       "1  1743-12-01                 NaN                            NaN  Århus   \n",
       "2  1744-01-01                 NaN                            NaN  Århus   \n",
       "3  1744-02-01                 NaN                            NaN  Århus   \n",
       "4  1744-03-01                 NaN                            NaN  Århus   \n",
       "\n",
       "   Country Latitude Longitude  \n",
       "0  Denmark   57.05N    10.33E  \n",
       "1  Denmark   57.05N    10.33E  \n",
       "2  Denmark   57.05N    10.33E  \n",
       "3  Denmark   57.05N    10.33E  \n",
       "4  Denmark   57.05N    10.33E  "
      ]
     },
     "execution_count": 2,
     "metadata": {},
     "output_type": "execute_result"
    }
   ],
   "source": [
    "df = pd.read_csv('../data/GlobalLandTemperaturesByCity.csv')\n",
    "\n",
    "df.head()"
   ]
  },
  {
   "cell_type": "markdown",
   "id": "d112d90f",
   "metadata": {},
   "source": [
    "Ajustando o tipo de dado da variável com as datas e separando a latitude para ser usada como medida de distância à linha do equador:"
   ]
  },
  {
   "cell_type": "code",
   "execution_count": 3,
   "id": "e2b5b03c",
   "metadata": {},
   "outputs": [
    {
     "data": {
      "text/html": [
       "<div>\n",
       "<style scoped>\n",
       "    .dataframe tbody tr th:only-of-type {\n",
       "        vertical-align: middle;\n",
       "    }\n",
       "\n",
       "    .dataframe tbody tr th {\n",
       "        vertical-align: top;\n",
       "    }\n",
       "\n",
       "    .dataframe thead th {\n",
       "        text-align: right;\n",
       "    }\n",
       "</style>\n",
       "<table border=\"1\" class=\"dataframe\">\n",
       "  <thead>\n",
       "    <tr style=\"text-align: right;\">\n",
       "      <th></th>\n",
       "      <th>dt</th>\n",
       "      <th>AverageTemperature</th>\n",
       "      <th>AverageTemperatureUncertainty</th>\n",
       "      <th>City</th>\n",
       "      <th>Country</th>\n",
       "      <th>Latitude</th>\n",
       "      <th>Longitude</th>\n",
       "    </tr>\n",
       "  </thead>\n",
       "  <tbody>\n",
       "    <tr>\n",
       "      <th>0</th>\n",
       "      <td>1743-11-01</td>\n",
       "      <td>6.068</td>\n",
       "      <td>1.737</td>\n",
       "      <td>Århus</td>\n",
       "      <td>Denmark</td>\n",
       "      <td>57.05</td>\n",
       "      <td>10.33E</td>\n",
       "    </tr>\n",
       "    <tr>\n",
       "      <th>1</th>\n",
       "      <td>1743-12-01</td>\n",
       "      <td>NaN</td>\n",
       "      <td>NaN</td>\n",
       "      <td>Århus</td>\n",
       "      <td>Denmark</td>\n",
       "      <td>57.05</td>\n",
       "      <td>10.33E</td>\n",
       "    </tr>\n",
       "    <tr>\n",
       "      <th>2</th>\n",
       "      <td>1744-01-01</td>\n",
       "      <td>NaN</td>\n",
       "      <td>NaN</td>\n",
       "      <td>Århus</td>\n",
       "      <td>Denmark</td>\n",
       "      <td>57.05</td>\n",
       "      <td>10.33E</td>\n",
       "    </tr>\n",
       "  </tbody>\n",
       "</table>\n",
       "</div>"
      ],
      "text/plain": [
       "          dt  AverageTemperature  AverageTemperatureUncertainty   City  \\\n",
       "0 1743-11-01               6.068                          1.737  Århus   \n",
       "1 1743-12-01                 NaN                            NaN  Århus   \n",
       "2 1744-01-01                 NaN                            NaN  Århus   \n",
       "\n",
       "   Country  Latitude Longitude  \n",
       "0  Denmark     57.05    10.33E  \n",
       "1  Denmark     57.05    10.33E  \n",
       "2  Denmark     57.05    10.33E  "
      ]
     },
     "execution_count": 3,
     "metadata": {},
     "output_type": "execute_result"
    }
   ],
   "source": [
    "df.dt = pd.to_datetime(df.dt)\n",
    "\n",
    "df['Latitude'] = df.Latitude.map(lambda x: float(x[:len(x)-1]))\n",
    "\n",
    "df.head(3)"
   ]
  },
  {
   "cell_type": "markdown",
   "id": "7f38bd38",
   "metadata": {},
   "source": [
    "Adicionando as temperaturas máxima e mínima com o erro.\n",
    "+ Tmax = Temp + Erro\n",
    "+ Tmin = Temp - Erro"
   ]
  },
  {
   "cell_type": "code",
   "execution_count": 4,
   "id": "ffa9ba75",
   "metadata": {},
   "outputs": [
    {
     "data": {
      "text/html": [
       "<div>\n",
       "<style scoped>\n",
       "    .dataframe tbody tr th:only-of-type {\n",
       "        vertical-align: middle;\n",
       "    }\n",
       "\n",
       "    .dataframe tbody tr th {\n",
       "        vertical-align: top;\n",
       "    }\n",
       "\n",
       "    .dataframe thead th {\n",
       "        text-align: right;\n",
       "    }\n",
       "</style>\n",
       "<table border=\"1\" class=\"dataframe\">\n",
       "  <thead>\n",
       "    <tr style=\"text-align: right;\">\n",
       "      <th></th>\n",
       "      <th>dt</th>\n",
       "      <th>AverageTemperature</th>\n",
       "      <th>AverageTemperatureUncertainty</th>\n",
       "      <th>City</th>\n",
       "      <th>Country</th>\n",
       "      <th>Latitude</th>\n",
       "      <th>Longitude</th>\n",
       "      <th>max</th>\n",
       "      <th>min</th>\n",
       "    </tr>\n",
       "  </thead>\n",
       "  <tbody>\n",
       "    <tr>\n",
       "      <th>0</th>\n",
       "      <td>1743-11-01</td>\n",
       "      <td>6.068</td>\n",
       "      <td>1.737</td>\n",
       "      <td>Århus</td>\n",
       "      <td>Denmark</td>\n",
       "      <td>57.05</td>\n",
       "      <td>10.33E</td>\n",
       "      <td>7.805</td>\n",
       "      <td>4.331</td>\n",
       "    </tr>\n",
       "    <tr>\n",
       "      <th>1</th>\n",
       "      <td>1743-12-01</td>\n",
       "      <td>NaN</td>\n",
       "      <td>NaN</td>\n",
       "      <td>Århus</td>\n",
       "      <td>Denmark</td>\n",
       "      <td>57.05</td>\n",
       "      <td>10.33E</td>\n",
       "      <td>NaN</td>\n",
       "      <td>NaN</td>\n",
       "    </tr>\n",
       "    <tr>\n",
       "      <th>2</th>\n",
       "      <td>1744-01-01</td>\n",
       "      <td>NaN</td>\n",
       "      <td>NaN</td>\n",
       "      <td>Århus</td>\n",
       "      <td>Denmark</td>\n",
       "      <td>57.05</td>\n",
       "      <td>10.33E</td>\n",
       "      <td>NaN</td>\n",
       "      <td>NaN</td>\n",
       "    </tr>\n",
       "  </tbody>\n",
       "</table>\n",
       "</div>"
      ],
      "text/plain": [
       "          dt  AverageTemperature  AverageTemperatureUncertainty   City  \\\n",
       "0 1743-11-01               6.068                          1.737  Århus   \n",
       "1 1743-12-01                 NaN                            NaN  Århus   \n",
       "2 1744-01-01                 NaN                            NaN  Århus   \n",
       "\n",
       "   Country  Latitude Longitude    max    min  \n",
       "0  Denmark     57.05    10.33E  7.805  4.331  \n",
       "1  Denmark     57.05    10.33E    NaN    NaN  \n",
       "2  Denmark     57.05    10.33E    NaN    NaN  "
      ]
     },
     "execution_count": 4,
     "metadata": {},
     "output_type": "execute_result"
    }
   ],
   "source": [
    "df['max'] = df['AverageTemperature'] + df['AverageTemperatureUncertainty']\n",
    "df['min'] = df['AverageTemperature'] - df['AverageTemperatureUncertainty']\n",
    "df.head(3)"
   ]
  },
  {
   "cell_type": "markdown",
   "id": "25b72cd3",
   "metadata": {},
   "source": [
    "Agrupando os dados por ano para diminuir o volume de dados e adicionando coluna de amplitude térmica (Tmáxima - Tmínima):"
   ]
  },
  {
   "cell_type": "code",
   "execution_count": 5,
   "id": "972b5e54",
   "metadata": {},
   "outputs": [],
   "source": [
    "# Agrupando por ano, cidade, país e latitude, e calculando a mediana de cada registro gerado:\n",
    "\n",
    "df_group = df.groupby(\n",
    "    [df['dt'].map(lambda x: x.year), 'City', 'Country', 'Latitude']).agg(\n",
    "    {'max': 'max', 'min': 'min'}).reset_index()\n",
    "\n",
    "# Alterando os nomes para melhor manipulação:\n",
    "df_group.columns = ['dt', 'City', 'Country', 'Latitude', 'max', 'min']\n",
    "\n",
    "# Criando a coluna de amplitude térmica:\n",
    "df_group['max_min'] = df_group['max'] - df_group['min']\n",
    "\n",
    "# Organizando o dataframe por ordem de cidade e, em seguida, por ano:\n",
    "df_group = df_group.sort_values(['City', 'Country', 'dt']).reset_index(drop=True)"
   ]
  },
  {
   "cell_type": "markdown",
   "id": "6d371bdb",
   "metadata": {},
   "source": [
    "Pela manipulação inicial foi visto que algumas cidades possuem mais de uma medida em algumas datas. Como as localizações são diferentes, deve se tratar de cidades maiores onde as medidas foram feitas em mais de um ponto.<br>\n",
    "Os dados serão agrupados de novo, mas agora pela média:"
   ]
  },
  {
   "cell_type": "code",
   "execution_count": 6,
   "id": "82628142",
   "metadata": {},
   "outputs": [
    {
     "data": {
      "text/html": [
       "<div>\n",
       "<style scoped>\n",
       "    .dataframe tbody tr th:only-of-type {\n",
       "        vertical-align: middle;\n",
       "    }\n",
       "\n",
       "    .dataframe tbody tr th {\n",
       "        vertical-align: top;\n",
       "    }\n",
       "\n",
       "    .dataframe thead th {\n",
       "        text-align: right;\n",
       "    }\n",
       "</style>\n",
       "<table border=\"1\" class=\"dataframe\">\n",
       "  <thead>\n",
       "    <tr style=\"text-align: right;\">\n",
       "      <th></th>\n",
       "      <th>dt</th>\n",
       "      <th>City</th>\n",
       "      <th>Country</th>\n",
       "      <th>0</th>\n",
       "    </tr>\n",
       "  </thead>\n",
       "  <tbody>\n",
       "    <tr>\n",
       "      <th>0</th>\n",
       "      <td>1855</td>\n",
       "      <td>Rongcheng</td>\n",
       "      <td>China</td>\n",
       "      <td>3</td>\n",
       "    </tr>\n",
       "    <tr>\n",
       "      <th>1</th>\n",
       "      <td>1870</td>\n",
       "      <td>Rongcheng</td>\n",
       "      <td>China</td>\n",
       "      <td>3</td>\n",
       "    </tr>\n",
       "    <tr>\n",
       "      <th>2</th>\n",
       "      <td>1890</td>\n",
       "      <td>Springfield</td>\n",
       "      <td>United States</td>\n",
       "      <td>3</td>\n",
       "    </tr>\n",
       "    <tr>\n",
       "      <th>3</th>\n",
       "      <td>1831</td>\n",
       "      <td>Springfield</td>\n",
       "      <td>United States</td>\n",
       "      <td>3</td>\n",
       "    </tr>\n",
       "    <tr>\n",
       "      <th>4</th>\n",
       "      <td>2007</td>\n",
       "      <td>Springfield</td>\n",
       "      <td>United States</td>\n",
       "      <td>3</td>\n",
       "    </tr>\n",
       "  </tbody>\n",
       "</table>\n",
       "</div>"
      ],
      "text/plain": [
       "     dt         City        Country  0\n",
       "0  1855    Rongcheng          China  3\n",
       "1  1870    Rongcheng          China  3\n",
       "2  1890  Springfield  United States  3\n",
       "3  1831  Springfield  United States  3\n",
       "4  2007  Springfield  United States  3"
      ]
     },
     "execution_count": 6,
     "metadata": {},
     "output_type": "execute_result"
    }
   ],
   "source": [
    "# Contagem de registros por ano, cidade e país - existem cidades com mesmo nome em países diferentes:\n",
    "\n",
    "pd.DataFrame(df_group[['dt', 'City', 'Country']].value_counts().reset_index()).head()"
   ]
  },
  {
   "cell_type": "markdown",
   "id": "8bab9ade",
   "metadata": {},
   "source": [
    "Agregação usando a média de cada conjunto de registros numéricos:"
   ]
  },
  {
   "cell_type": "code",
   "execution_count": 7,
   "id": "01995e91",
   "metadata": {},
   "outputs": [],
   "source": [
    "df_group = df_group.groupby(\n",
    "    ['dt', 'City', 'Country']).agg(\n",
    "    {'Latitude': 'mean', 'min': 'min', 'max': 'max', 'max_min': 'max'}).reset_index()\n",
    "\n",
    "df_group = df_group.sort_values(['City', 'Country', 'dt']).reset_index(drop=True)"
   ]
  },
  {
   "cell_type": "markdown",
   "id": "0fb1beff",
   "metadata": {},
   "source": [
    "Os dados também possuem alguns valores NaN:"
   ]
  },
  {
   "cell_type": "code",
   "execution_count": 8,
   "id": "38452d36",
   "metadata": {},
   "outputs": [
    {
     "data": {
      "text/html": [
       "<div>\n",
       "<style scoped>\n",
       "    .dataframe tbody tr th:only-of-type {\n",
       "        vertical-align: middle;\n",
       "    }\n",
       "\n",
       "    .dataframe tbody tr th {\n",
       "        vertical-align: top;\n",
       "    }\n",
       "\n",
       "    .dataframe thead th {\n",
       "        text-align: right;\n",
       "    }\n",
       "</style>\n",
       "<table border=\"1\" class=\"dataframe\">\n",
       "  <thead>\n",
       "    <tr style=\"text-align: right;\">\n",
       "      <th></th>\n",
       "      <th>dt</th>\n",
       "      <th>City</th>\n",
       "      <th>Country</th>\n",
       "      <th>Latitude</th>\n",
       "      <th>min</th>\n",
       "      <th>max</th>\n",
       "      <th>max_min</th>\n",
       "    </tr>\n",
       "  </thead>\n",
       "  <tbody>\n",
       "    <tr>\n",
       "      <th>3</th>\n",
       "      <td>1746</td>\n",
       "      <td>A Coruña</td>\n",
       "      <td>Spain</td>\n",
       "      <td>42.59</td>\n",
       "      <td>NaN</td>\n",
       "      <td>NaN</td>\n",
       "      <td>NaN</td>\n",
       "    </tr>\n",
       "    <tr>\n",
       "      <th>4</th>\n",
       "      <td>1747</td>\n",
       "      <td>A Coruña</td>\n",
       "      <td>Spain</td>\n",
       "      <td>42.59</td>\n",
       "      <td>NaN</td>\n",
       "      <td>NaN</td>\n",
       "      <td>NaN</td>\n",
       "    </tr>\n",
       "    <tr>\n",
       "      <th>5</th>\n",
       "      <td>1748</td>\n",
       "      <td>A Coruña</td>\n",
       "      <td>Spain</td>\n",
       "      <td>42.59</td>\n",
       "      <td>NaN</td>\n",
       "      <td>NaN</td>\n",
       "      <td>NaN</td>\n",
       "    </tr>\n",
       "    <tr>\n",
       "      <th>6</th>\n",
       "      <td>1749</td>\n",
       "      <td>A Coruña</td>\n",
       "      <td>Spain</td>\n",
       "      <td>42.59</td>\n",
       "      <td>NaN</td>\n",
       "      <td>NaN</td>\n",
       "      <td>NaN</td>\n",
       "    </tr>\n",
       "    <tr>\n",
       "      <th>274</th>\n",
       "      <td>1746</td>\n",
       "      <td>Aachen</td>\n",
       "      <td>Germany</td>\n",
       "      <td>50.63</td>\n",
       "      <td>NaN</td>\n",
       "      <td>NaN</td>\n",
       "      <td>NaN</td>\n",
       "    </tr>\n",
       "    <tr>\n",
       "      <th>275</th>\n",
       "      <td>1747</td>\n",
       "      <td>Aachen</td>\n",
       "      <td>Germany</td>\n",
       "      <td>50.63</td>\n",
       "      <td>NaN</td>\n",
       "      <td>NaN</td>\n",
       "      <td>NaN</td>\n",
       "    </tr>\n",
       "    <tr>\n",
       "      <th>276</th>\n",
       "      <td>1748</td>\n",
       "      <td>Aachen</td>\n",
       "      <td>Germany</td>\n",
       "      <td>50.63</td>\n",
       "      <td>NaN</td>\n",
       "      <td>NaN</td>\n",
       "      <td>NaN</td>\n",
       "    </tr>\n",
       "    <tr>\n",
       "      <th>277</th>\n",
       "      <td>1749</td>\n",
       "      <td>Aachen</td>\n",
       "      <td>Germany</td>\n",
       "      <td>50.63</td>\n",
       "      <td>NaN</td>\n",
       "      <td>NaN</td>\n",
       "      <td>NaN</td>\n",
       "    </tr>\n",
       "    <tr>\n",
       "      <th>545</th>\n",
       "      <td>1746</td>\n",
       "      <td>Aalborg</td>\n",
       "      <td>Denmark</td>\n",
       "      <td>57.05</td>\n",
       "      <td>NaN</td>\n",
       "      <td>NaN</td>\n",
       "      <td>NaN</td>\n",
       "    </tr>\n",
       "    <tr>\n",
       "      <th>546</th>\n",
       "      <td>1747</td>\n",
       "      <td>Aalborg</td>\n",
       "      <td>Denmark</td>\n",
       "      <td>57.05</td>\n",
       "      <td>NaN</td>\n",
       "      <td>NaN</td>\n",
       "      <td>NaN</td>\n",
       "    </tr>\n",
       "  </tbody>\n",
       "</table>\n",
       "</div>"
      ],
      "text/plain": [
       "       dt      City  Country  Latitude  min  max  max_min\n",
       "3    1746  A Coruña    Spain     42.59  NaN  NaN      NaN\n",
       "4    1747  A Coruña    Spain     42.59  NaN  NaN      NaN\n",
       "5    1748  A Coruña    Spain     42.59  NaN  NaN      NaN\n",
       "6    1749  A Coruña    Spain     42.59  NaN  NaN      NaN\n",
       "274  1746    Aachen  Germany     50.63  NaN  NaN      NaN\n",
       "275  1747    Aachen  Germany     50.63  NaN  NaN      NaN\n",
       "276  1748    Aachen  Germany     50.63  NaN  NaN      NaN\n",
       "277  1749    Aachen  Germany     50.63  NaN  NaN      NaN\n",
       "545  1746   Aalborg  Denmark     57.05  NaN  NaN      NaN\n",
       "546  1747   Aalborg  Denmark     57.05  NaN  NaN      NaN"
      ]
     },
     "execution_count": 8,
     "metadata": {},
     "output_type": "execute_result"
    }
   ],
   "source": [
    "df_group[df_group['max_min'].isna()].head(10)"
   ]
  },
  {
   "cell_type": "code",
   "execution_count": 9,
   "id": "7b66a34a",
   "metadata": {},
   "outputs": [
    {
     "name": "stdout",
     "output_type": "stream",
     "text": [
      "3448 3448\n"
     ]
    }
   ],
   "source": [
    "# Verificando número de cidades e número de cidades sem NaN para testar se há cidades com todos valores NaN:\n",
    "print(df_group['City'].nunique(), df_group[df_group['max_min'].isna() == False]['City'].nunique())"
   ]
  },
  {
   "cell_type": "markdown",
   "id": "1c67c347",
   "metadata": {},
   "source": [
    "Para não ser necessário a exclusão das cidades com valores NaN, será feita imputação nesses dados.<br>\n",
    "\n",
    "Algumas opções:\n",
    "+ imputação com missingpy.MissForest() criando dados a partir da aplicação de RandomForest;\n",
    "+ interpolação."
   ]
  },
  {
   "cell_type": "markdown",
   "id": "680c47c0",
   "metadata": {},
   "source": [
    "**Opção 1)**"
   ]
  },
  {
   "cell_type": "code",
   "execution_count": 10,
   "id": "d6b3c90a",
   "metadata": {},
   "outputs": [],
   "source": [
    "# A imputação com MissForest é extremamente exigente para o processador e nesse caso não é necessariamente uma\n",
    "# escolha melhor do que a interpolação.\n",
    "# Sendo assim, a opção 1 ficará apenas registrada abaixo:\n",
    "\n",
    "#df_miss = df_group.copy()\n",
    "\n",
    "#encoder = LabelEncoder()\n",
    "\n",
    "#df_miss['City'] = encoder.fit_transform(df_miss['City'])\n",
    "#df_miss['Country'] = encoder.fit_transform(df_miss['Country'])\n",
    "\n",
    "#imputer = MissForest(max_iter=5)\n",
    "#imp_data = pd.DataFrame(imputer.fit_transform(df_miss), columns=df_miss.columns.tolist())\n",
    "\n",
    "#imp_data.head()"
   ]
  },
  {
   "cell_type": "markdown",
   "id": "a4a29319",
   "metadata": {},
   "source": [
    "**Opção 2)**"
   ]
  },
  {
   "cell_type": "code",
   "execution_count": 11,
   "id": "f6e5b841",
   "metadata": {},
   "outputs": [
    {
     "data": {
      "text/html": [
       "<div>\n",
       "<style scoped>\n",
       "    .dataframe tbody tr th:only-of-type {\n",
       "        vertical-align: middle;\n",
       "    }\n",
       "\n",
       "    .dataframe tbody tr th {\n",
       "        vertical-align: top;\n",
       "    }\n",
       "\n",
       "    .dataframe thead th {\n",
       "        text-align: right;\n",
       "    }\n",
       "</style>\n",
       "<table border=\"1\" class=\"dataframe\">\n",
       "  <thead>\n",
       "    <tr style=\"text-align: right;\">\n",
       "      <th></th>\n",
       "      <th>City</th>\n",
       "      <th>Country</th>\n",
       "      <th>Latitude</th>\n",
       "      <th>min</th>\n",
       "      <th>max</th>\n",
       "      <th>max_min</th>\n",
       "    </tr>\n",
       "    <tr>\n",
       "      <th>dt</th>\n",
       "      <th></th>\n",
       "      <th></th>\n",
       "      <th></th>\n",
       "      <th></th>\n",
       "      <th></th>\n",
       "      <th></th>\n",
       "    </tr>\n",
       "  </thead>\n",
       "  <tbody>\n",
       "    <tr>\n",
       "      <th>1743</th>\n",
       "      <td>A Coruña</td>\n",
       "      <td>Spain</td>\n",
       "      <td>42.59</td>\n",
       "      <td>8.84</td>\n",
       "      <td>12.72</td>\n",
       "      <td>3.88</td>\n",
       "    </tr>\n",
       "    <tr>\n",
       "      <th>1744</th>\n",
       "      <td>A Coruña</td>\n",
       "      <td>Spain</td>\n",
       "      <td>42.59</td>\n",
       "      <td>6.76</td>\n",
       "      <td>19.84</td>\n",
       "      <td>13.08</td>\n",
       "    </tr>\n",
       "    <tr>\n",
       "      <th>1745</th>\n",
       "      <td>A Coruña</td>\n",
       "      <td>Spain</td>\n",
       "      <td>42.59</td>\n",
       "      <td>5.71</td>\n",
       "      <td>13.43</td>\n",
       "      <td>7.71</td>\n",
       "    </tr>\n",
       "  </tbody>\n",
       "</table>\n",
       "</div>"
      ],
      "text/plain": [
       "          City Country  Latitude   min    max  max_min\n",
       "dt                                                    \n",
       "1743  A Coruña   Spain     42.59  8.84  12.72     3.88\n",
       "1744  A Coruña   Spain     42.59  6.76  19.84    13.08\n",
       "1745  A Coruña   Spain     42.59  5.71  13.43     7.71"
      ]
     },
     "execution_count": 11,
     "metadata": {},
     "output_type": "execute_result"
    }
   ],
   "source": [
    "df_int = df_group.set_index('dt', drop=True)\n",
    "\n",
    "for n in df_int.columns.to_list():\n",
    "    df_int[n] = df_int[n].interpolate()\n",
    "    \n",
    "for n in ['min', 'max', 'max_min']:\n",
    "    df_int[n] = np.round(df_int[n], 2)\n",
    "    \n",
    "df_int.head(3)"
   ]
  },
  {
   "cell_type": "code",
   "execution_count": 12,
   "id": "289b3298",
   "metadata": {},
   "outputs": [],
   "source": [
    "df_int.to_csv('../data/dados_ano_a_ano.csv')"
   ]
  },
  {
   "cell_type": "markdown",
   "id": "fbcb50c3",
   "metadata": {},
   "source": [
    "Gravando os dados de países e cidades para a aplicação:"
   ]
  },
  {
   "cell_type": "code",
   "execution_count": 13,
   "id": "cefe53ca",
   "metadata": {},
   "outputs": [],
   "source": [
    "countries_cities = dict()\n",
    "for n in df_int['Country'].sort_values().unique():\n",
    "    country = n\n",
    "    cities =  df_int[df_int['Country'] == n]['City'].sort_values().unique()\n",
    "    countries_cities[country] = cities.tolist()"
   ]
  },
  {
   "cell_type": "code",
   "execution_count": 14,
   "id": "d43bbd9b",
   "metadata": {},
   "outputs": [],
   "source": [
    "with open('../data/countries_cities.json', 'w', encoding='utf-8') as f:\n",
    "    dump(countries_cities, f, ensure_ascii=False, indent=4)"
   ]
  },
  {
   "cell_type": "code",
   "execution_count": 15,
   "id": "381be04a",
   "metadata": {},
   "outputs": [
    {
     "data": {
      "text/plain": [
       "'Tempo de execução: 00:00:37'"
      ]
     },
     "execution_count": 15,
     "metadata": {},
     "output_type": "execute_result"
    }
   ],
   "source": [
    "f'Tempo de execução: {strftime(\"%H:%M:%S\", gmtime(time()-global_start))}'"
   ]
  },
  {
   "cell_type": "markdown",
   "id": "9d0a3e05",
   "metadata": {},
   "source": [
    "### Fim"
   ]
  }
 ],
 "metadata": {
  "kernelspec": {
   "display_name": "Python 3 (ipykernel)",
   "language": "python",
   "name": "python3"
  },
  "language_info": {
   "codemirror_mode": {
    "name": "ipython",
    "version": 3
   },
   "file_extension": ".py",
   "mimetype": "text/x-python",
   "name": "python",
   "nbconvert_exporter": "python",
   "pygments_lexer": "ipython3",
   "version": "3.9.7"
  },
  "vscode": {
   "interpreter": {
    "hash": "1879b94cb0a65f38e8acbb5ab6306f27e80ee2115c1e886b68c553bf3e669931"
   }
  }
 },
 "nbformat": 4,
 "nbformat_minor": 5
}
